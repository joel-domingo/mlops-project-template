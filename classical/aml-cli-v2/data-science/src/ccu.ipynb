{
  "cells": [
    {
      "cell_type": "markdown",
      "metadata": {
        "id": "k4hkM2DwZ9Vc"
      },
      "source": [
        "Expected outputs are:\n",
        "*   Logistic Regression and Random Forest Model\n",
        "*   ROC and AUC for both models\n",
        "*   treeinterpreter graphs\n",
        "*   K means clustering graphs for interpretation\n",
        "\n"
      ]
    },
    {
      "cell_type": "code",
      "execution_count": null,
      "metadata": {},
      "outputs": [],
      "source": [
        "#config cell\n",
        "seed = 47\n",
        "\n",
        "max_cont_graph = 10 #maximum feats to show in feat contribution graphs\n",
        "max_features_to_show = 10 #Max Feats to show in Overall View\n",
        "\n",
        "label = \"Attrition\"\n",
        "indiv = \"Employee\"\n",
        "\n",
        "min_clus = 5\n",
        "max_clus = 8\n",
        "iters = 40 #iterations for randomized search cv\n",
        "\n",
        "train_path = '../../data/df-june.csv'\n",
        "test_path = '../../data/df-june.csv'\n",
        "\n",
        "clus_cols = ['Tenure in Yrs', 'Time in Grade (Yrs)',\n",
        "'Time in Position', 'Age in Years', 'Average Audio Calls', \n",
        "'Average Emails Sent', 'Conglo Compa-ratio']"
      ]
    },
    {
      "cell_type": "code",
      "execution_count": null,
      "metadata": {
        "id": "id2sP3-ZSyna"
      },
      "outputs": [],
      "source": [
        "import numpy as np\n",
        "import pandas as pd\n",
        "import matplotlib.pyplot as plt\n",
        "\n",
        "from sklearn.ensemble import RandomForestClassifier\n",
        "from sklearn.inspection import permutation_importance\n",
        "from sklearn.preprocessing import MinMaxScaler\n",
        "\n",
        "from sklearn.model_selection import cross_val_score, RandomizedSearchCV, StratifiedKFold\n",
        "\n",
        "from treeinterpreter import treeinterpreter as ti\n",
        "\n",
        "from sklearn.cluster import KMeans\n",
        "from sklearn.metrics import silhouette_score\n",
        "\n",
        "from sklearn.metrics import roc_curve, auc, roc_auc_score\n",
        "from sklearn.decomposition import PCA"
      ]
    },
    {
      "cell_type": "markdown",
      "metadata": {
        "id": "cRD2Oq4vkPBr"
      },
      "source": [
        "# Data Cleaning"
      ]
    },
    {
      "cell_type": "code",
      "execution_count": null,
      "metadata": {},
      "outputs": [],
      "source": [
        "df = pd.read_csv(train_path, index_col=0)\n",
        "df_test = pd.read_csv(test_path, index_col=0)"
      ]
    },
    {
      "cell_type": "code",
      "execution_count": null,
      "metadata": {
        "id": "OX9reUyLV6qG"
      },
      "outputs": [],
      "source": [
        "y = df['Status_Withdrawn']\n",
        "X = df.drop(['Status_Withdrawn', 'Status_Active'], axis=1)\n",
        "X_test = df.drop(['Status_Withdrawn', 'Status_Active'], axis=1)\n",
        "feature_names = X.columns"
      ]
    },
    {
      "cell_type": "code",
      "execution_count": null,
      "metadata": {},
      "outputs": [],
      "source": [
        "y.value_counts()"
      ]
    },
    {
      "cell_type": "code",
      "execution_count": null,
      "metadata": {},
      "outputs": [],
      "source": [
        "indices = X.index"
      ]
    },
    {
      "cell_type": "code",
      "execution_count": null,
      "metadata": {},
      "outputs": [],
      "source": [
        "y_test = df_test['Status_Withdrawn'][indices]"
      ]
    },
    {
      "cell_type": "code",
      "execution_count": null,
      "metadata": {
        "id": "O1brVwd1WMlA"
      },
      "outputs": [],
      "source": [
        "scaler = MinMaxScaler().fit(X)\n",
        "X_scaled = scaler.transform(X)\n"
      ]
    },
    {
      "cell_type": "markdown",
      "metadata": {
        "id": "q5m8Dua-kUJc"
      },
      "source": [
        "# Build Random Forest"
      ]
    },
    {
      "cell_type": "code",
      "execution_count": null,
      "metadata": {
        "id": "lt-2qzQnnCpc"
      },
      "outputs": [],
      "source": [
        "forest = RandomForestClassifier(class_weight = \"balanced\", \n",
        "                                        n_estimators=500, \n",
        "                                        random_state=seed)"
      ]
    },
    {
      "cell_type": "code",
      "execution_count": null,
      "metadata": {
        "id": "3sLWPOAjkdFh"
      },
      "outputs": [],
      "source": [
        "#change n_iter to find better regularization parameters\n",
        "\n",
        "param_grid = {'max_depth': range(3, 10),\n",
        "              'criterion': ['gini','entropy'],\n",
        "              'max_features': range(2, 8),\n",
        "              } \n",
        "\n",
        "gs = RandomizedSearchCV(forest, param_grid, cv=5, n_iter=iters, random_state=seed, scoring=\"roc_auc\")"
      ]
    },
    {
      "cell_type": "code",
      "execution_count": null,
      "metadata": {
        "id": "Je6S1STMkdJU"
      },
      "outputs": [],
      "source": [
        "grid_result = gs.fit(X, y)"
      ]
    },
    {
      "cell_type": "code",
      "execution_count": null,
      "metadata": {
        "id": "0BKSgu5ikdMP"
      },
      "outputs": [],
      "source": [
        "best_params = gs.best_params_"
      ]
    },
    {
      "cell_type": "code",
      "execution_count": null,
      "metadata": {
        "colab": {
          "base_uri": "https://localhost:8080/"
        },
        "id": "S3cIyEb0nFIg",
        "outputId": "194d6905-37ce-4d33-8956-8f5a49f32fd4"
      },
      "outputs": [],
      "source": [
        "forest = RandomForestClassifier(max_depth=best_params[\"max_depth\"], criterion=best_params[\"criterion\"], \n",
        "                                max_features=best_params[\"max_features\"], verbose=False, n_estimators=500, \n",
        "                                class_weight=\"balanced\", random_state=seed)\n",
        "forest.fit(X, y)"
      ]
    },
    {
      "cell_type": "code",
      "execution_count": null,
      "metadata": {
        "colab": {
          "base_uri": "https://localhost:8080/"
        },
        "id": "zpLv6VCWnFO2",
        "outputId": "7caea900-f161-425a-ad7a-b90228d7121a"
      },
      "outputs": [],
      "source": [
        "skf = StratifiedKFold(n_splits=10, shuffle=True, random_state=seed) \n",
        "\n",
        "scores = cross_val_score(forest, X, y, cv=skf)\n",
        "print(np.mean(scores))\n",
        "\n",
        "scores = cross_val_score(forest, X, y, cv=skf, scoring=\"roc_auc\")\n",
        "print(np.mean(scores))\n"
      ]
    },
    {
      "cell_type": "code",
      "execution_count": null,
      "metadata": {
        "colab": {
          "base_uri": "https://localhost:8080/",
          "height": 295
        },
        "id": "6hR2CIoAh13i",
        "outputId": "384026c3-013d-4f06-99e7-9d0334c88237"
      },
      "outputs": [],
      "source": [
        "y_score = forest.predict_proba(X.loc[indices])\n",
        "\n",
        "fpr, tpr, _ = roc_curve(y_test.loc[indices], y_score[:, 1])\n",
        "roc_auc = auc(fpr, tpr)\n",
        "\n",
        "plt.figure()\n",
        "lw = 2\n",
        "plt.plot(\n",
        "    fpr,\n",
        "    tpr,\n",
        "    color=\"darkorange\",\n",
        "    lw=lw,\n",
        "    label=\"ROC curve (area = %0.2f)\" % roc_auc,\n",
        ")\n",
        "plt.plot([0, 1], [0, 1], color=\"navy\", lw=lw, linestyle=\"--\")\n",
        "plt.xlim([0.0, 1.0])\n",
        "plt.ylim([0.0, 1.05])\n",
        "plt.xlabel(\"False Positive Rate\")\n",
        "plt.ylabel(\"True Positive Rate\")\n",
        "plt.title(\"Receiver operating characteristic Random Forest\")\n",
        "plt.legend(loc=\"lower right\")\n",
        "plt.show()\n",
        "plt.close('all')"
      ]
    },
    {
      "cell_type": "markdown",
      "metadata": {
        "id": "xhS2eLecnVrh"
      },
      "source": [
        "# Visualize Model Attributes"
      ]
    },
    {
      "cell_type": "code",
      "execution_count": null,
      "metadata": {
        "id": "8b-NrhkJnFVU"
      },
      "outputs": [],
      "source": [
        "result = permutation_importance(\n",
        "    forest, X, y, n_repeats=10, random_state=seed, n_jobs=2\n",
        ") "
      ]
    },
    {
      "cell_type": "code",
      "execution_count": null,
      "metadata": {
        "colab": {
          "base_uri": "https://localhost:8080/",
          "height": 405
        },
        "id": "sy9g71cAnZvX",
        "outputId": "92d2a4ef-a8a1-4e69-895c-16a9db354420"
      },
      "outputs": [],
      "source": [
        "forest_importances = pd.DataFrame({'means': result.importances_mean, 'stds': result.importances_std}, index=feature_names)\n",
        "forest_importances = forest_importances.sort_values('means', ascending=False)\n",
        "\n",
        "forest_importances['means'][:max_features_to_show].plot.bar(title=f\"Feature Importances Using Permutation on Full {label} Model\",\n",
        "                                                            yerr = forest_importances['stds'][:max_features_to_show])"
      ]
    },
    {
      "cell_type": "code",
      "execution_count": null,
      "metadata": {
        "colab": {
          "base_uri": "https://localhost:8080/",
          "height": 405
        },
        "id": "7WQScj3GnaVu",
        "outputId": "38a0921f-fec3-41c2-8474-a99fc4749b49"
      },
      "outputs": [],
      "source": [
        "prediction, bias, contributions = ti.predict(forest, X.values)\n",
        "\n",
        "stack = []\n",
        "\n",
        "for i in range(len(feature_names)):\n",
        "  stack.append(contributions[:, i, 1])\n",
        "\n",
        "stack = np.array(stack)\n",
        "\n",
        "contri_means = []\n",
        "contri_stds = []\n",
        "\n",
        "for i in range(len(feature_names)):\n",
        "  contri_means.append(stack[i].mean())\n",
        "  contri_stds.append(stack[i].std())\n",
        "\n",
        "contrib_df = pd.DataFrame({'means': contri_means, 'stds': contri_stds}, index=feature_names)\n",
        "\n",
        "contrib_graph_data = contrib_df.loc[forest_importances.index[:max_features_to_show]]\n",
        "\n",
        "contrib_graph_data['means'].plot.bar(title=f\"Understanding Effects of Important Features on {label} Prediction\",\n",
        "                                     yerr = contrib_graph_data['stds'],\n",
        "                                     grid=True)\n"
      ]
    },
    {
      "cell_type": "code",
      "execution_count": null,
      "metadata": {
        "id": "U8VatIVWYkeX"
      },
      "outputs": [],
      "source": [
        "for i, j in enumerate(feature_names):\n",
        "  if j in forest_importances.index[:max_features_to_show]:\n",
        "    fig, ax = plt.subplots()\n",
        "    h = ax.hist2d(X[j], stack[i], (50, 50), cmap=plt.cm.jet, cmin=1)\n",
        "    fig.colorbar(h[3], ax=ax)\n",
        "    ax.set_title(f'Tree Interpreter Contributions for {j}')\n",
        "    ax.figure.savefig(f'../../outputs/ccu/treeinterpreter-contribs-{j}.png')\n",
        "    plt.close('all')"
      ]
    },
    {
      "cell_type": "code",
      "execution_count": null,
      "metadata": {
        "colab": {
          "base_uri": "https://localhost:8080/",
          "height": 281
        },
        "id": "6TZcgHrTnabt",
        "outputId": "136febc5-08d5-44dd-c341-329ab1d78793"
      },
      "outputs": [],
      "source": [
        "plt.figure()\n",
        "plt.hist(prediction[:,1]) \n",
        "plt.title(f'Distribution of {label} Predictions')\n",
        "plt.show()\n",
        "plt.close('all')"
      ]
    },
    {
      "cell_type": "markdown",
      "metadata": {
        "id": "fq2XByxxFe4Y"
      },
      "source": [
        "# K-means Clustering"
      ]
    },
    {
      "cell_type": "code",
      "execution_count": null,
      "metadata": {
        "id": "M4j-ED1AFiQU"
      },
      "outputs": [],
      "source": [
        "def silhoutte_kmeans(df_km):\n",
        "    ins = []\n",
        "    sil_avg = []\n",
        "    cents = []\n",
        "    labels = []\n",
        "\n",
        "    for n_clus in range(5, 8):\n",
        "        km = KMeans(n_clusters=n_clus, random_state=seed, algorithm=\"lloyd\").fit(df_km)\n",
        "        label = km.predict(df_km)\n",
        "        labels.append(km.predict(df_km))\n",
        "        ins.append(km.inertia_)\n",
        "        sil_avg.append(silhouette_score(df_km, label))\n",
        "        cents.append(km.cluster_centers_)\n",
        "\n",
        "    centers = cents[sil_avg.index(max(sil_avg))]\n",
        "    n_clus = len(centers)\n",
        "    labels = labels[sil_avg.index(max(sil_avg))]\n",
        "\n",
        "    return centers, n_clus, labels"
      ]
    },
    {
      "cell_type": "code",
      "execution_count": null,
      "metadata": {
        "id": "DmDHHmR8QLZ_"
      },
      "outputs": [],
      "source": [
        "X_scaled = pd.DataFrame(X_scaled, columns=X.columns)\n",
        "X_scaled = X_scaled[clus_cols]"
      ]
    },
    {
      "cell_type": "code",
      "execution_count": null,
      "metadata": {
        "id": "fVogNs_eFiaH"
      },
      "outputs": [],
      "source": [
        "centers_X, n_clus_X, labels_X = silhoutte_kmeans(X_scaled)"
      ]
    },
    {
      "cell_type": "code",
      "execution_count": null,
      "metadata": {
        "colab": {
          "base_uri": "https://localhost:8080/",
          "height": 298
        },
        "id": "j1hHU1uqFihN",
        "outputId": "c2adf0ba-3185-4039-f706-5be31e559f3c"
      },
      "outputs": [],
      "source": [
        "pd.Series(labels_X).value_counts().plot.barh(title=f'{indiv} Cluster Distribution (K-means)',\n",
        "                                     xlabel='Cluster',\n",
        "                                     ylabel=f'n({indiv})',\n",
        "                                     rot=0)"
      ]
    },
    {
      "cell_type": "code",
      "execution_count": null,
      "metadata": {
        "id": "MrDzELmNLNRH"
      },
      "outputs": [],
      "source": [
        "an_X = pd.DataFrame(centers_X, columns=X_scaled.columns)"
      ]
    },
    {
      "cell_type": "code",
      "execution_count": null,
      "metadata": {
        "id": "58CMNMQdFing"
      },
      "outputs": [],
      "source": [
        "#plot bar graphs of centroids per cluster\n",
        "for i in range(n_clus_X):\n",
        "    ax = an_X.iloc[i].sort_values(ascending=False)[:max_features_to_show].plot.barh(title=f\"Cluster {i} Centroids\")\n",
        "    plt.tight_layout()\n",
        "    ax.figure.savefig(f'../../outputs/ccu/clus-{i}-centroids.png')\n",
        "    plt.close('all')"
      ]
    },
    {
      "cell_type": "code",
      "execution_count": null,
      "metadata": {
        "id": "B_RXOjX5uheN"
      },
      "outputs": [],
      "source": [
        "#determine extent of delineation of clusters\n",
        "pca = PCA(n_components=2)\n",
        "pca.fit(X_scaled)\n",
        "X_transformed = pca.transform(X_scaled)"
      ]
    },
    {
      "cell_type": "code",
      "execution_count": null,
      "metadata": {
        "colab": {
          "base_uri": "https://localhost:8080/"
        },
        "id": "BaUbpaPwuhl3",
        "outputId": "1dde52c6-6023-45cb-e757-7eb4063da7f5"
      },
      "outputs": [],
      "source": [
        "print(pca.explained_variance_ratio_)"
      ]
    },
    {
      "cell_type": "code",
      "execution_count": null,
      "metadata": {
        "colab": {
          "base_uri": "https://localhost:8080/"
        },
        "id": "QdLcIQFZuhsf",
        "outputId": "f05424f9-866a-4602-d55d-6b4b823476e8"
      },
      "outputs": [],
      "source": [
        "print(pca.singular_values_)"
      ]
    },
    {
      "cell_type": "code",
      "execution_count": null,
      "metadata": {
        "colab": {
          "base_uri": "https://localhost:8080/",
          "height": 265
        },
        "id": "ZadjUsdturpa",
        "outputId": "82dadc2d-7f57-425e-b7ad-79743fb865ff"
      },
      "outputs": [],
      "source": [
        "fig, ax = plt.subplots()\n",
        "ax.scatter(X_transformed[:, 0], X_transformed[:, 1], c=labels_X)\n",
        "plt.show()\n",
        "plt.close('all')"
      ]
    },
    {
      "cell_type": "markdown",
      "metadata": {},
      "source": [
        "# sp and sn"
      ]
    },
    {
      "cell_type": "code",
      "execution_count": null,
      "metadata": {},
      "outputs": [],
      "source": [
        "y_score = y_score[:, 1]\n",
        "y_test = y_test.loc[indices]"
      ]
    },
    {
      "cell_type": "code",
      "execution_count": null,
      "metadata": {},
      "outputs": [],
      "source": [
        "thresh=0.5\n",
        "\n",
        "filt = (y_score>=thresh) & (y_test==1)\n",
        "true_pos = sum(filt)\n",
        "\n",
        "filt = (y_score<thresh) & (y_test==0)\n",
        "true_neg = sum(filt)\n",
        "\n",
        "filt = (y_score>=thresh) & (y_test==0)\n",
        "false_pos = sum(filt)\n",
        "\n",
        "filt = (y_score<thresh) & (y_test==1)\n",
        "false_neg = sum(filt)\n",
        "\n",
        "print(true_pos)\n",
        "print(true_neg)\n",
        "print(false_pos)\n",
        "print(false_neg)\n",
        "\n",
        "acc = (true_pos+true_neg)/(true_pos+true_neg+false_pos+false_neg)\n",
        "sn = true_pos/(true_pos+false_neg)\n",
        "sp = true_neg/(true_neg+false_pos)\n",
        "\n",
        "print(acc)\n",
        "print(sn)\n",
        "print(sp)"
      ]
    },
    {
      "cell_type": "code",
      "execution_count": null,
      "metadata": {},
      "outputs": [],
      "source": [
        "df = pd.DataFrame(contributions[:, :, 1])\n",
        "df.index = X.index\n",
        "df.columns = feature_names\n",
        "df['Bias'] = bias[:, 1]\n",
        "df['Cluster'] = labels_X"
      ]
    },
    {
      "cell_type": "code",
      "execution_count": null,
      "metadata": {},
      "outputs": [],
      "source": [
        "df.to_csv('../../outputs/ccu/all-employees-ccu.csv')"
      ]
    }
  ],
  "metadata": {
    "colab": {
      "collapsed_sections": [],
      "name": "Prediction with Random Forests and Clustering with K Means.ipynb",
      "provenance": []
    },
    "kernelspec": {
      "display_name": "Python 3.10.8 64-bit (microsoft store)",
      "language": "python",
      "name": "python3"
    },
    "language_info": {
      "codemirror_mode": {
        "name": "ipython",
        "version": 3
      },
      "file_extension": ".py",
      "mimetype": "text/x-python",
      "name": "python",
      "nbconvert_exporter": "python",
      "pygments_lexer": "ipython3",
      "version": "3.10.9 (tags/v3.10.9:1dd9be6, Dec  6 2022, 20:01:21) [MSC v.1934 64 bit (AMD64)]"
    },
    "vscode": {
      "interpreter": {
        "hash": "c0ab6c967170d79a4393b0fff096afff8dfe664672ca1ee79e439eb28489cbcf"
      }
    }
  },
  "nbformat": 4,
  "nbformat_minor": 0
}
